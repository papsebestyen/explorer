{
 "cells": [
  {
   "cell_type": "markdown",
   "id": "a8cfd6c4",
   "metadata": {},
   "source": [
    "# Explore Waves and Conditions"
   ]
  },
  {
   "cell_type": "code",
   "execution_count": 1,
   "id": "regular-screen",
   "metadata": {
    "ExecuteTime": {
     "end_time": "2022-06-02T11:13:21.241060Z",
     "start_time": "2022-06-02T11:13:18.554529Z"
    },
    "execution": {
     "iopub.execute_input": "2022-06-02T11:50:36.335019Z",
     "iopub.status.busy": "2022-06-02T11:50:36.334714Z",
     "iopub.status.idle": "2022-06-02T11:50:38.086974Z",
     "shell.execute_reply": "2022-06-02T11:50:38.085943Z"
    }
   },
   "outputs": [],
   "source": [
    "import numpy as np\n",
    "import pandas as pd\n",
    "import matplotlib.pyplot as plt\n",
    "from matplotlib import rcParams\n",
    "import seaborn as sns"
   ]
  },
  {
   "cell_type": "code",
   "execution_count": 2,
   "id": "46ebffb0",
   "metadata": {
    "ExecuteTime": {
     "end_time": "2022-06-02T11:21:58.853780Z",
     "start_time": "2022-06-02T11:21:58.829769Z"
    },
    "execution": {
     "iopub.execute_input": "2022-06-02T11:50:38.091327Z",
     "iopub.status.busy": "2022-06-02T11:50:38.090897Z",
     "iopub.status.idle": "2022-06-02T11:50:38.106755Z",
     "shell.execute_reply": "2022-06-02T11:50:38.105758Z"
    }
   },
   "outputs": [
    {
     "data": {
      "text/plain": [
       "'/opt/hostedtoolcache/Python/3.10.4/x64/lib/python3.10/site-packages/matplotlib/mpl-data/matplotlibrc'"
      ]
     },
     "execution_count": 2,
     "metadata": {},
     "output_type": "execute_result"
    }
   ],
   "source": [
    "import matplotlib\n",
    "matplotlib.matplotlib_fname()"
   ]
  },
  {
   "cell_type": "code",
   "execution_count": 3,
   "id": "337267f7",
   "metadata": {
    "ExecuteTime": {
     "end_time": "2022-06-02T11:24:14.993563Z",
     "start_time": "2022-06-02T11:24:14.969565Z"
    },
    "execution": {
     "iopub.execute_input": "2022-06-02T11:50:38.110809Z",
     "iopub.status.busy": "2022-06-02T11:50:38.110265Z",
     "iopub.status.idle": "2022-06-02T11:50:38.116394Z",
     "shell.execute_reply": "2022-06-02T11:50:38.115532Z"
    }
   },
   "outputs": [
    {
     "data": {
      "text/plain": [
       "'module://matplotlib_inline.backend_inline'"
      ]
     },
     "execution_count": 3,
     "metadata": {},
     "output_type": "execute_result"
    }
   ],
   "source": [
    "rcParams[\"backend\"]"
   ]
  },
  {
   "cell_type": "code",
   "execution_count": 4,
   "id": "human-accommodation",
   "metadata": {
    "execution": {
     "iopub.execute_input": "2022-06-02T11:50:38.120472Z",
     "iopub.status.busy": "2022-06-02T11:50:38.119937Z",
     "iopub.status.idle": "2022-06-02T11:50:38.124600Z",
     "shell.execute_reply": "2022-06-02T11:50:38.123666Z"
    }
   },
   "outputs": [],
   "source": [
    "rcParams[\"figure.figsize\"] = (7, 7)\n",
    "rcParams[\"figure.autolayout\"] = True"
   ]
  },
  {
   "cell_type": "code",
   "execution_count": 5,
   "id": "acc8d653",
   "metadata": {
    "execution": {
     "iopub.execute_input": "2022-06-02T11:50:38.128619Z",
     "iopub.status.busy": "2022-06-02T11:50:38.128114Z",
     "iopub.status.idle": "2022-06-02T11:50:38.133802Z",
     "shell.execute_reply": "2022-06-02T11:50:38.132880Z"
    }
   },
   "outputs": [
    {
     "name": "stdout",
     "output_type": "stream",
     "text": [
      "100.0\n",
      "72.0\n"
     ]
    }
   ],
   "source": [
    "print(rcParams[\"figure.dpi\"])\n",
    "rcParams[\"figure.dpi\"] = 72\n",
    "print(rcParams[\"figure.dpi\"])"
   ]
  },
  {
   "cell_type": "code",
   "execution_count": 6,
   "id": "e4e52f4e",
   "metadata": {
    "execution": {
     "iopub.execute_input": "2022-06-02T11:50:38.137751Z",
     "iopub.status.busy": "2022-06-02T11:50:38.137242Z",
     "iopub.status.idle": "2022-06-02T11:50:38.142458Z",
     "shell.execute_reply": "2022-06-02T11:50:38.141481Z"
    }
   },
   "outputs": [
    {
     "name": "stdout",
     "output_type": "stream",
     "text": [
      "figure\n",
      "72.0\n"
     ]
    }
   ],
   "source": [
    "print(rcParams[\"savefig.dpi\"])\n",
    "rcParams[\"savefig.dpi\"] = 72\n",
    "print(rcParams[\"savefig.dpi\"])"
   ]
  },
  {
   "cell_type": "code",
   "execution_count": 7,
   "id": "b3a26a4f",
   "metadata": {
    "execution": {
     "iopub.execute_input": "2022-06-02T11:50:38.147924Z",
     "iopub.status.busy": "2022-06-02T11:50:38.147439Z",
     "iopub.status.idle": "2022-06-02T11:50:38.290029Z",
     "shell.execute_reply": "2022-06-02T11:50:38.288901Z"
    }
   },
   "outputs": [],
   "source": [
    "df = pd.read_csv(\"covid_victim.csv\").assign(is_70_plus=lambda df: df[\"age\"] >= 70)"
   ]
  },
  {
   "cell_type": "code",
   "execution_count": 8,
   "id": "tired-republican",
   "metadata": {
    "execution": {
     "iopub.execute_input": "2022-06-02T11:50:38.294340Z",
     "iopub.status.busy": "2022-06-02T11:50:38.294021Z",
     "iopub.status.idle": "2022-06-02T11:50:38.299046Z",
     "shell.execute_reply": "2022-06-02T11:50:38.298187Z"
    }
   },
   "outputs": [],
   "source": [
    "cond_cols = df.columns[df.columns.str.startswith(\"condition\")]"
   ]
  },
  {
   "cell_type": "code",
   "execution_count": 9,
   "id": "failing-screw",
   "metadata": {
    "execution": {
     "iopub.execute_input": "2022-06-02T11:50:38.303439Z",
     "iopub.status.busy": "2022-06-02T11:50:38.303064Z",
     "iopub.status.idle": "2022-06-02T11:50:38.309193Z",
     "shell.execute_reply": "2022-06-02T11:50:38.308141Z"
    }
   },
   "outputs": [],
   "source": [
    "mean_cols = [\n",
    "    \"positive_rate\",\n",
    "    \"total_vaccinations\",\n",
    "    \"people_vaccinated\",\n",
    "    \"people_fully_vaccinated\",\n",
    "    \"total_boosters\",\n",
    "]\n",
    "sum_cols = [*cond_cols, \"is_70_plus\", \"is_male\"]\n",
    "aggs = {\n",
    "    **{c: \"sum\" for c in sum_cols},\n",
    "    **{c: \"mean\" for c in mean_cols},\n",
    "    \"count\": \"sum\",\n",
    "}"
   ]
  },
  {
   "cell_type": "code",
   "execution_count": 10,
   "id": "equipped-bouquet",
   "metadata": {
    "execution": {
     "iopub.execute_input": "2022-06-02T11:50:38.313559Z",
     "iopub.status.busy": "2022-06-02T11:50:38.313182Z",
     "iopub.status.idle": "2022-06-02T11:50:38.793097Z",
     "shell.execute_reply": "2022-06-02T11:50:38.792179Z"
    }
   },
   "outputs": [
    {
     "data": {
      "image/png": "[encoded data removed]",
      "text/plain": [
       "<Figure size 432x288 with 1 Axes>"
      ]
     },
     "metadata": {
      "needs_background": "light"
     },
     "output_type": "display_data"
    }
   ],
   "source": [
    "MIN_ASC = 30\n",
    "\n",
    "\n",
    "def get_wave_n(df):\n",
    "    wave_ascents = df.groupby(\"stage\")[\"climb\"].mean().loc[lambda s: s > 40].index\n",
    "    _dic = {a: i + 1 for i, a in enumerate(wave_ascents)}\n",
    "    wave_dic = {**_dic, **{k + 1: v for k, v in _dic.items()}}\n",
    "    subseq_waves = pd.Series([wave_dic.get(e, 0) for e in df[\"stage\"]], index=df.index)\n",
    "    return np.where(\n",
    "        df[\"climb\"].abs().rolling(4).mean() > (MIN_ASC / 2), subseq_waves, 0\n",
    "    ).astype(str)\n",
    "\n",
    "\n",
    "weekly_wave_df = (\n",
    "    df.assign(count=1, pdate=pd.to_datetime(df[\"estimated_date\"]))\n",
    "    .groupby(\"pdate\")\n",
    "    .agg(aggs)\n",
    "    .resample(\"1W\")\n",
    "    .agg(aggs)\n",
    "    .assign(\n",
    "        climb=lambda df: df[\"count\"].diff(),\n",
    "        stage=lambda df: (df[\"climb\"] > MIN_ASC)\n",
    "        .diff()\n",
    "        .pipe(lambda s: s & (s != s.shift(1)) & (s != s.shift(2)))\n",
    "        .fillna(0)\n",
    "        .astype(int)\n",
    "        .cumsum(),\n",
    "        wave=get_wave_n,\n",
    "        wave_stage=lambda df: np.where(\n",
    "            df.groupby(\"stage\")[\"climb\"].transform(\"mean\") > 0, \"ascent\", \"descent\"\n",
    "        ),\n",
    "    )\n",
    "    .loc[lambda df: df[\"wave\"] != \"0\"]\n",
    ")\n",
    "\n",
    "ax = weekly_wave_df.reset_index().pipe(\n",
    "    lambda df: sns.lineplot(\n",
    "        x=\"pdate\", y=\"count\", hue=\"wave\", style=\"wave_stage\", data=df\n",
    "    )\n",
    ")\n",
    "plt.title(\"Number of deaths caused by COVID in Hungary\")\n",
    "plt.xlabel(\"Date\")\n",
    "plt.xticks(rotation = 35)\n",
    "plt.ylabel(\"Number of deaths\")\n",
    "plt.show()"
   ]
  },
  {
   "cell_type": "code",
   "execution_count": 11,
   "id": "imposed-swaziland",
   "metadata": {
    "execution": {
     "iopub.execute_input": "2022-06-02T11:50:38.797476Z",
     "iopub.status.busy": "2022-06-02T11:50:38.796961Z",
     "iopub.status.idle": "2022-06-02T11:50:38.808506Z",
     "shell.execute_reply": "2022-06-02T11:50:38.807559Z"
    }
   },
   "outputs": [],
   "source": [
    "changes = (\n",
    "    weekly_wave_df.loc[:, [\"count\", *sum_cols]]\n",
    "    .pipe(lambda df: 2 * df.diff() / (df + df.shift()))\n",
    "    .fillna(0)\n",
    "    .pipe(lambda df: df - df[[\"count\"]].values)\n",
    "    .drop(\"count\", axis=1)\n",
    ")"
   ]
  },
  {
   "cell_type": "code",
   "execution_count": 12,
   "id": "7ae57145",
   "metadata": {
    "execution": {
     "iopub.execute_input": "2022-06-02T11:50:38.812482Z",
     "iopub.status.busy": "2022-06-02T11:50:38.811977Z",
     "iopub.status.idle": "2022-06-02T11:50:38.930461Z",
     "shell.execute_reply": "2022-06-02T11:50:38.929393Z"
    }
   },
   "outputs": [
    {
     "data": {
      "text/html": [
       "<style type=\"text/css\">\n",
       "#T_11c0b_row0_col0 {\n",
       "  background-color: #ebeff0;\n",
       "  color: #000000;\n",
       "}\n",
       "#T_11c0b_row0_col1, #T_11c0b_row0_col5 {\n",
       "  background-color: #f1ebe9;\n",
       "  color: #000000;\n",
       "}\n",
       "#T_11c0b_row0_col2 {\n",
       "  background-color: #e0b6ac;\n",
       "  color: #000000;\n",
       "}\n",
       "#T_11c0b_row0_col3, #T_11c0b_row1_col1, #T_11c0b_row2_col0 {\n",
       "  background-color: #f2f0ef;\n",
       "  color: #000000;\n",
       "}\n",
       "#T_11c0b_row0_col4, #T_11c0b_row4_col0 {\n",
       "  background-color: #e3e9ec;\n",
       "  color: #000000;\n",
       "}\n",
       "#T_11c0b_row0_col6 {\n",
       "  background-color: #e0e8ea;\n",
       "  color: #000000;\n",
       "}\n",
       "#T_11c0b_row1_col0 {\n",
       "  background-color: #efe7e5;\n",
       "  color: #000000;\n",
       "}\n",
       "#T_11c0b_row1_col2 {\n",
       "  background-color: #e9d2cd;\n",
       "  color: #000000;\n",
       "}\n",
       "#T_11c0b_row1_col3, #T_11c0b_row5_col5 {\n",
       "  background-color: #ead5d0;\n",
       "  color: #000000;\n",
       "}\n",
       "#T_11c0b_row1_col4 {\n",
       "  background-color: #dfb3a7;\n",
       "  color: #000000;\n",
       "}\n",
       "#T_11c0b_row1_col5 {\n",
       "  background-color: #f0f2f2;\n",
       "  color: #000000;\n",
       "}\n",
       "#T_11c0b_row1_col6, #T_11c0b_row3_col5 {\n",
       "  background-color: #e8edef;\n",
       "  color: #000000;\n",
       "}\n",
       "#T_11c0b_row2_col1 {\n",
       "  background-color: #f1edec;\n",
       "  color: #000000;\n",
       "}\n",
       "#T_11c0b_row2_col2 {\n",
       "  background-color: #98b9c3;\n",
       "  color: #000000;\n",
       "}\n",
       "#T_11c0b_row2_col3 {\n",
       "  background-color: #8eb2be;\n",
       "  color: #000000;\n",
       "}\n",
       "#T_11c0b_row2_col4 {\n",
       "  background-color: #c3553a;\n",
       "  color: #f1f1f1;\n",
       "}\n",
       "#T_11c0b_row2_col5, #T_11c0b_row3_col2 {\n",
       "  background-color: #cad9de;\n",
       "  color: #000000;\n",
       "}\n",
       "#T_11c0b_row2_col6 {\n",
       "  background-color: #ede0dd;\n",
       "  color: #000000;\n",
       "}\n",
       "#T_11c0b_row3_col0 {\n",
       "  background-color: #dce5e8;\n",
       "  color: #000000;\n",
       "}\n",
       "#T_11c0b_row3_col1 {\n",
       "  background-color: #e7ccc6;\n",
       "  color: #000000;\n",
       "}\n",
       "#T_11c0b_row3_col3 {\n",
       "  background-color: #d99f90;\n",
       "  color: #000000;\n",
       "}\n",
       "#T_11c0b_row3_col4 {\n",
       "  background-color: #b7cdd4;\n",
       "  color: #000000;\n",
       "}\n",
       "#T_11c0b_row3_col6 {\n",
       "  background-color: #eee2df;\n",
       "  color: #000000;\n",
       "}\n",
       "#T_11c0b_row4_col1 {\n",
       "  background-color: #93b6c1;\n",
       "  color: #000000;\n",
       "}\n",
       "#T_11c0b_row4_col2 {\n",
       "  background-color: #e7cbc4;\n",
       "  color: #000000;\n",
       "}\n",
       "#T_11c0b_row4_col3 {\n",
       "  background-color: #dfe7ea;\n",
       "  color: #000000;\n",
       "}\n",
       "#T_11c0b_row4_col4 {\n",
       "  background-color: #aac5cd;\n",
       "  color: #000000;\n",
       "}\n",
       "#T_11c0b_row4_col5 {\n",
       "  background-color: #ecddda;\n",
       "  color: #000000;\n",
       "}\n",
       "#T_11c0b_row4_col6 {\n",
       "  background-color: #d2dfe3;\n",
       "  color: #000000;\n",
       "}\n",
       "#T_11c0b_row5_col0 {\n",
       "  background-color: #efe6e4;\n",
       "  color: #000000;\n",
       "}\n",
       "#T_11c0b_row5_col1 {\n",
       "  background-color: #f2eeee;\n",
       "  color: #000000;\n",
       "}\n",
       "#T_11c0b_row5_col2 {\n",
       "  background-color: #e6cac3;\n",
       "  color: #000000;\n",
       "}\n",
       "#T_11c0b_row5_col3 {\n",
       "  background-color: #ecf0f1;\n",
       "  color: #000000;\n",
       "}\n",
       "#T_11c0b_row5_col4 {\n",
       "  background-color: #9abac4;\n",
       "  color: #000000;\n",
       "}\n",
       "#T_11c0b_row5_col6 {\n",
       "  background-color: #e7ecee;\n",
       "  color: #000000;\n",
       "}\n",
       "</style>\n",
       "<table id=\"T_11c0b_\">\n",
       "  <caption>Growth of conditions compared to the growth of deceased people (%)</caption>\n",
       "  <thead>\n",
       "    <tr>\n",
       "      <th class=\"blank\" >&nbsp;</th>\n",
       "      <th class=\"blank level0\" >&nbsp;</th>\n",
       "      <th class=\"col_heading level0 col0\" >blood_pressure</th>\n",
       "      <th class=\"col_heading level0 col1\" >diabetes</th>\n",
       "      <th class=\"col_heading level0 col2\" >heart</th>\n",
       "      <th class=\"col_heading level0 col3\" >lungs</th>\n",
       "      <th class=\"col_heading level0 col4\" >obesity</th>\n",
       "      <th class=\"col_heading level0 col5\" >is_70_plus</th>\n",
       "      <th class=\"col_heading level0 col6\" >is_male</th>\n",
       "    </tr>\n",
       "    <tr>\n",
       "      <th class=\"index_name level0\" >wave</th>\n",
       "      <th class=\"index_name level1\" >wave_stage</th>\n",
       "      <th class=\"blank col0\" >&nbsp;</th>\n",
       "      <th class=\"blank col1\" >&nbsp;</th>\n",
       "      <th class=\"blank col2\" >&nbsp;</th>\n",
       "      <th class=\"blank col3\" >&nbsp;</th>\n",
       "      <th class=\"blank col4\" >&nbsp;</th>\n",
       "      <th class=\"blank col5\" >&nbsp;</th>\n",
       "      <th class=\"blank col6\" >&nbsp;</th>\n",
       "    </tr>\n",
       "  </thead>\n",
       "  <tbody>\n",
       "    <tr>\n",
       "      <th id=\"T_11c0b_level0_row0\" class=\"row_heading level0 row0\" rowspan=\"2\">1</th>\n",
       "      <th id=\"T_11c0b_level1_row0\" class=\"row_heading level1 row0\" >ascent</th>\n",
       "      <td id=\"T_11c0b_row0_col0\" class=\"data row0 col0\" >-0.002742</td>\n",
       "      <td id=\"T_11c0b_row0_col1\" class=\"data row0 col1\" >0.004524</td>\n",
       "      <td id=\"T_11c0b_row0_col2\" class=\"data row0 col2\" >0.037642</td>\n",
       "      <td id=\"T_11c0b_row0_col3\" class=\"data row0 col3\" >0.000924</td>\n",
       "      <td id=\"T_11c0b_row0_col4\" class=\"data row0 col4\" >-0.007773</td>\n",
       "      <td id=\"T_11c0b_row0_col5\" class=\"data row0 col5\" >0.004463</td>\n",
       "      <td id=\"T_11c0b_row0_col6\" class=\"data row0 col6\" >-0.008982</td>\n",
       "    </tr>\n",
       "    <tr>\n",
       "      <th id=\"T_11c0b_level1_row1\" class=\"row_heading level1 row1\" >descent</th>\n",
       "      <td id=\"T_11c0b_row1_col0\" class=\"data row1 col0\" >0.006391</td>\n",
       "      <td id=\"T_11c0b_row1_col1\" class=\"data row1 col1\" >0.000929</td>\n",
       "      <td id=\"T_11c0b_row1_col2\" class=\"data row1 col2\" >0.019753</td>\n",
       "      <td id=\"T_11c0b_row1_col3\" class=\"data row1 col3\" >0.017998</td>\n",
       "      <td id=\"T_11c0b_row1_col4\" class=\"data row1 col4\" >0.040337</td>\n",
       "      <td id=\"T_11c0b_row1_col5\" class=\"data row1 col5\" >-0.000641</td>\n",
       "      <td id=\"T_11c0b_row1_col6\" class=\"data row1 col6\" >-0.004361</td>\n",
       "    </tr>\n",
       "    <tr>\n",
       "      <th id=\"T_11c0b_level0_row2\" class=\"row_heading level0 row2\" rowspan=\"2\">2</th>\n",
       "      <th id=\"T_11c0b_level1_row2\" class=\"row_heading level1 row2\" >ascent</th>\n",
       "      <td id=\"T_11c0b_row2_col0\" class=\"data row2 col0\" >0.000806</td>\n",
       "      <td id=\"T_11c0b_row2_col1\" class=\"data row2 col1\" >0.002395</td>\n",
       "      <td id=\"T_11c0b_row2_col2\" class=\"data row2 col2\" >-0.049256</td>\n",
       "      <td id=\"T_11c0b_row2_col3\" class=\"data row2 col3\" >-0.054787</td>\n",
       "      <td id=\"T_11c0b_row2_col4\" class=\"data row2 col4\" >0.119785</td>\n",
       "      <td id=\"T_11c0b_row2_col5\" class=\"data row2 col5\" >-0.021713</td>\n",
       "      <td id=\"T_11c0b_row2_col6\" class=\"data row2 col6\" >0.011238</td>\n",
       "    </tr>\n",
       "    <tr>\n",
       "      <th id=\"T_11c0b_level1_row3\" class=\"row_heading level1 row3\" >descent</th>\n",
       "      <td id=\"T_11c0b_row3_col0\" class=\"data row3 col0\" >-0.011092</td>\n",
       "      <td id=\"T_11c0b_row3_col1\" class=\"data row3 col1\" >0.023527</td>\n",
       "      <td id=\"T_11c0b_row3_col2\" class=\"data row3 col2\" >-0.021657</td>\n",
       "      <td id=\"T_11c0b_row3_col3\" class=\"data row3 col3\" >0.052348</td>\n",
       "      <td id=\"T_11c0b_row3_col4\" class=\"data row3 col4\" >-0.032597</td>\n",
       "      <td id=\"T_11c0b_row3_col5\" class=\"data row3 col5\" >-0.003948</td>\n",
       "      <td id=\"T_11c0b_row3_col6\" class=\"data row3 col6\" >0.009433</td>\n",
       "    </tr>\n",
       "    <tr>\n",
       "      <th id=\"T_11c0b_level0_row4\" class=\"row_heading level0 row4\" rowspan=\"2\">3</th>\n",
       "      <th id=\"T_11c0b_level1_row4\" class=\"row_heading level1 row4\" >ascent</th>\n",
       "      <td id=\"T_11c0b_row4_col0\" class=\"data row4 col0\" >-0.007776</td>\n",
       "      <td id=\"T_11c0b_row4_col1\" class=\"data row4 col1\" >-0.051923</td>\n",
       "      <td id=\"T_11c0b_row4_col2\" class=\"data row4 col2\" >0.024911</td>\n",
       "      <td id=\"T_11c0b_row4_col3\" class=\"data row4 col3\" >-0.010020</td>\n",
       "      <td id=\"T_11c0b_row4_col4\" class=\"data row4 col4\" >-0.039476</td>\n",
       "      <td id=\"T_11c0b_row4_col5\" class=\"data row4 col5\" >0.012501</td>\n",
       "      <td id=\"T_11c0b_row4_col6\" class=\"data row4 col6\" >-0.016588</td>\n",
       "    </tr>\n",
       "    <tr>\n",
       "      <th id=\"T_11c0b_level1_row5\" class=\"row_heading level1 row5\" >descent</th>\n",
       "      <td id=\"T_11c0b_row5_col0\" class=\"data row5 col0\" >0.007483</td>\n",
       "      <td id=\"T_11c0b_row5_col1\" class=\"data row5 col1\" >0.002109</td>\n",
       "      <td id=\"T_11c0b_row5_col2\" class=\"data row5 col2\" >0.025621</td>\n",
       "      <td id=\"T_11c0b_row5_col3\" class=\"data row5 col3\" >-0.001901</td>\n",
       "      <td id=\"T_11c0b_row5_col4\" class=\"data row5 col4\" >-0.048794</td>\n",
       "      <td id=\"T_11c0b_row5_col5\" class=\"data row5 col5\" >0.018292</td>\n",
       "      <td id=\"T_11c0b_row5_col6\" class=\"data row5 col6\" >-0.005158</td>\n",
       "    </tr>\n",
       "  </tbody>\n",
       "</table>\n"
      ],
      "text/plain": [
       "<pandas.io.formats.style.Styler at 0x7fedce599e70>"
      ]
     },
     "execution_count": 12,
     "metadata": {},
     "output_type": "execute_result"
    }
   ],
   "source": [
    "(\n",
    "    pd.concat([changes, weekly_wave_df[[\"wave\", \"wave_stage\"]]], axis=1)\n",
    "    .pivot_table(index=[\"wave\", \"wave_stage\"], values=sum_cols)\n",
    "    .rename(columns=lambda s: s.replace(\"condition__\", \"\"))\n",
    "    .style.background_gradient(\n",
    "        axis=None,\n",
    "        vmin=-0.1,\n",
    "        vmax=0.1,\n",
    "        cmap=sns.diverging_palette(\n",
    "            220,\n",
    "            20,\n",
    "            as_cmap=True,\n",
    "        ),\n",
    "    )\n",
    "    .set_caption(\"Growth of conditions compared to the growth of deceased people (%)\")\n",
    ")"
   ]
  },
  {
   "cell_type": "code",
   "execution_count": 13,
   "id": "standing-fisher",
   "metadata": {
    "execution": {
     "iopub.execute_input": "2022-06-02T11:50:38.935084Z",
     "iopub.status.busy": "2022-06-02T11:50:38.934353Z",
     "iopub.status.idle": "2022-06-02T11:50:39.310354Z",
     "shell.execute_reply": "2022-06-02T11:50:39.309190Z"
    }
   },
   "outputs": [
    {
     "data": {
      "image/png": "[encoded data removed]",
      "text/plain": [
       "<Figure size 432x288 with 1 Axes>"
      ]
     },
     "metadata": {
      "needs_background": "light"
     },
     "output_type": "display_data"
    }
   ],
   "source": [
    "ax = weekly_wave_df.loc[\n",
    "    :,\n",
    "    [\n",
    "        \"count\",\n",
    "        \"condition__obesity\",\n",
    "        \"condition__blood_pressure\",\n",
    "        \"people_fully_vaccinated\",\n",
    "    ],\n",
    "].pipe(lambda df: df / df.max()).melt(ignore_index=False).reset_index().pipe(\n",
    "    lambda df: sns.lineplot(x=\"pdate\", y=\"value\", hue=\"variable\", data=df)\n",
    ")\n",
    "\n",
    "plt.title(\"Selected variables weekly values compared to their peak values\")\n",
    "plt.xlabel(\"Date\")\n",
    "plt.xticks(rotation = 35)\n",
    "plt.ylabel(\"%\", rotation = 180)\n",
    "plt.show()"
   ]
  },
  {
   "cell_type": "code",
   "execution_count": 14,
   "id": "chinese-heath",
   "metadata": {
    "execution": {
     "iopub.execute_input": "2022-06-02T11:50:39.314897Z",
     "iopub.status.busy": "2022-06-02T11:50:39.314137Z",
     "iopub.status.idle": "2022-06-02T11:50:40.789041Z",
     "shell.execute_reply": "2022-06-02T11:50:40.787857Z"
    },
    "scrolled": true
   },
   "outputs": [],
   "source": [
    "condition_counts = (\n",
    "    pd.DataFrame(df[\"raw_conditions\"].str.split(\", \").tolist())\n",
    "    .unstack()\n",
    "    .dropna()\n",
    "    .value_counts()\n",
    ")"
   ]
  },
  {
   "cell_type": "code",
   "execution_count": 15,
   "id": "similar-yukon",
   "metadata": {
    "execution": {
     "iopub.execute_input": "2022-06-02T11:50:40.793831Z",
     "iopub.status.busy": "2022-06-02T11:50:40.793486Z",
     "iopub.status.idle": "2022-06-02T11:50:40.803970Z",
     "shell.execute_reply": "2022-06-02T11:50:40.803189Z"
    }
   },
   "outputs": [
    {
     "data": {
      "text/html": [
       "<style type=\"text/css\">\n",
       "</style>\n",
       "<table id=\"T_922a8_\">\n",
       "  <caption>Top 20 conditions recorded for the deceased</caption>\n",
       "  <thead>\n",
       "    <tr>\n",
       "      <th class=\"blank level0\" >&nbsp;</th>\n",
       "      <th class=\"col_heading level0 col0\" >Count</th>\n",
       "    </tr>\n",
       "    <tr>\n",
       "      <th class=\"index_name level0\" >Conditions</th>\n",
       "      <th class=\"blank col0\" >&nbsp;</th>\n",
       "    </tr>\n",
       "  </thead>\n",
       "  <tbody>\n",
       "    <tr>\n",
       "      <th id=\"T_922a8_level0_row0\" class=\"row_heading level0 row0\" >magasvérnyomás-betegség</th>\n",
       "      <td id=\"T_922a8_row0_col0\" class=\"data row0 col0\" >20589</td>\n",
       "    </tr>\n",
       "    <tr>\n",
       "      <th id=\"T_922a8_level0_row1\" class=\"row_heading level0 row1\" >cukorbetegség</th>\n",
       "      <td id=\"T_922a8_row1_col0\" class=\"data row1 col0\" >12811</td>\n",
       "    </tr>\n",
       "    <tr>\n",
       "      <th id=\"T_922a8_level0_row2\" class=\"row_heading level0 row2\" >magas vérnyomás</th>\n",
       "      <td id=\"T_922a8_row2_col0\" class=\"data row2 col0\" >8891</td>\n",
       "    </tr>\n",
       "    <tr>\n",
       "      <th id=\"T_922a8_level0_row3\" class=\"row_heading level0 row3\" >iszkémiás szívbetegség</th>\n",
       "      <td id=\"T_922a8_row3_col0\" class=\"data row3 col0\" >4860</td>\n",
       "    </tr>\n",
       "    <tr>\n",
       "      <th id=\"T_922a8_level0_row4\" class=\"row_heading level0 row4\" >szívbetegség</th>\n",
       "      <td id=\"T_922a8_row4_col0\" class=\"data row4 col0\" >3614</td>\n",
       "    </tr>\n",
       "    <tr>\n",
       "      <th id=\"T_922a8_level0_row5\" class=\"row_heading level0 row5\" >demencia</th>\n",
       "      <td id=\"T_922a8_row5_col0\" class=\"data row5 col0\" >3022</td>\n",
       "    </tr>\n",
       "    <tr>\n",
       "      <th id=\"T_922a8_level0_row6\" class=\"row_heading level0 row6\" >daganatos megbetegedés</th>\n",
       "      <td id=\"T_922a8_row6_col0\" class=\"data row6 col0\" >2798</td>\n",
       "    </tr>\n",
       "    <tr>\n",
       "      <th id=\"T_922a8_level0_row7\" class=\"row_heading level0 row7\" >krónikus veseelégtelenség</th>\n",
       "      <td id=\"T_922a8_row7_col0\" class=\"data row7 col0\" >2299</td>\n",
       "    </tr>\n",
       "    <tr>\n",
       "      <th id=\"T_922a8_level0_row8\" class=\"row_heading level0 row8\" >szívelégtelenség</th>\n",
       "      <td id=\"T_922a8_row8_col0\" class=\"data row8 col0\" >2224</td>\n",
       "    </tr>\n",
       "    <tr>\n",
       "      <th id=\"T_922a8_level0_row9\" class=\"row_heading level0 row9\" >veseelégtelenség</th>\n",
       "      <td id=\"T_922a8_row9_col0\" class=\"data row9 col0\" >1952</td>\n",
       "    </tr>\n",
       "    <tr>\n",
       "      <th id=\"T_922a8_level0_row10\" class=\"row_heading level0 row10\" >nem ismert alapbetegség</th>\n",
       "      <td id=\"T_922a8_row10_col0\" class=\"data row10 col0\" >1950</td>\n",
       "    </tr>\n",
       "    <tr>\n",
       "      <th id=\"T_922a8_level0_row11\" class=\"row_heading level0 row11\" >szívritmuszavar</th>\n",
       "      <td id=\"T_922a8_row11_col0\" class=\"data row11 col0\" >1890</td>\n",
       "    </tr>\n",
       "    <tr>\n",
       "      <th id=\"T_922a8_level0_row12\" class=\"row_heading level0 row12\" >tüdőbetegség</th>\n",
       "      <td id=\"T_922a8_row12_col0\" class=\"data row12 col0\" >1874</td>\n",
       "    </tr>\n",
       "    <tr>\n",
       "      <th id=\"T_922a8_level0_row13\" class=\"row_heading level0 row13\" >érelmeszesedés</th>\n",
       "      <td id=\"T_922a8_row13_col0\" class=\"data row13 col0\" >1478</td>\n",
       "    </tr>\n",
       "    <tr>\n",
       "      <th id=\"T_922a8_level0_row14\" class=\"row_heading level0 row14\" >pitvarfibrilláció</th>\n",
       "      <td id=\"T_922a8_row14_col0\" class=\"data row14 col0\" >1438</td>\n",
       "    </tr>\n",
       "    <tr>\n",
       "      <th id=\"T_922a8_level0_row15\" class=\"row_heading level0 row15\" >vérszegénység</th>\n",
       "      <td id=\"T_922a8_row15_col0\" class=\"data row15 col0\" >1407</td>\n",
       "    </tr>\n",
       "    <tr>\n",
       "      <th id=\"T_922a8_level0_row16\" class=\"row_heading level0 row16\" >kóros elhízás</th>\n",
       "      <td id=\"T_922a8_row16_col0\" class=\"data row16 col0\" >1392</td>\n",
       "    </tr>\n",
       "    <tr>\n",
       "      <th id=\"T_922a8_level0_row17\" class=\"row_heading level0 row17\" >krónikus obstruktív tüdőbetegség</th>\n",
       "      <td id=\"T_922a8_row17_col0\" class=\"data row17 col0\" >1379</td>\n",
       "    </tr>\n",
       "    <tr>\n",
       "      <th id=\"T_922a8_level0_row18\" class=\"row_heading level0 row18\" >elhízás</th>\n",
       "      <td id=\"T_922a8_row18_col0\" class=\"data row18 col0\" >1124</td>\n",
       "    </tr>\n",
       "    <tr>\n",
       "      <th id=\"T_922a8_level0_row19\" class=\"row_heading level0 row19\" >asztma</th>\n",
       "      <td id=\"T_922a8_row19_col0\" class=\"data row19 col0\" >1109</td>\n",
       "    </tr>\n",
       "  </tbody>\n",
       "</table>\n"
      ],
      "text/plain": [
       "<pandas.io.formats.style.Styler at 0x7fed88192ef0>"
      ]
     },
     "execution_count": 15,
     "metadata": {},
     "output_type": "execute_result"
    }
   ],
   "source": [
    "df_contition_counts = pd.DataFrame(condition_counts.head(20), columns = ['Count'])\n",
    "df_contition_counts.index.name= 'Conditions'\n",
    "df_contition_counts.style.set_caption(\"Top 20 conditions recorded for the deceased\")"
   ]
  }
 ],
 "metadata": {
  "interpreter": {
   "hash": "051ddee4c815ee03869c3f21f1ffeafebd049190673f7a0303a38b773e06f9dd"
  },
  "kernelspec": {
   "display_name": "Python 3 (ipykernel)",
   "language": "python",
   "name": "python3"
  },
  "language_info": {
   "codemirror_mode": {
    "name": "ipython",
    "version": 3
   },
   "file_extension": ".py",
   "mimetype": "text/x-python",
   "name": "python",
   "nbconvert_exporter": "python",
   "pygments_lexer": "ipython3",
   "version": "3.10.4"
  },
  "toc": {
   "base_numbering": 1,
   "nav_menu": {},
   "number_sections": true,
   "sideBar": true,
   "skip_h1_title": false,
   "title_cell": "Table of Contents",
   "title_sidebar": "Contents",
   "toc_cell": false,
   "toc_position": {},
   "toc_section_display": true,
   "toc_window_display": false
  }
 },
 "nbformat": 4,
 "nbformat_minor": 5
}