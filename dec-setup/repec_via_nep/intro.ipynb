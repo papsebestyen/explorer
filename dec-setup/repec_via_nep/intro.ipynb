{
 "cells": [
  {
   "cell_type": "markdown",
   "id": "greater-sweden",
   "metadata": {},
   "source": [
    "# Papers Analysis\n"
   ]
  },
  {
   "cell_type": "code",
   "execution_count": 2,
   "id": "weighted-boost",
   "metadata": {},
   "outputs": [],
   "source": [
    "import pandas as pd\n",
    "import seaborn as sns\n",
    "import matplotlib.pyplot as plt"
   ]
  },
  {
   "cell_type": "markdown",
   "id": "66b4b709",
   "metadata": {},
   "source": [
    "Setting `matplotlib` parameters\n"
   ]
  },
  {
   "cell_type": "code",
   "execution_count": 3,
   "id": "b15c0990",
   "metadata": {},
   "outputs": [],
   "source": [
    "plt.rcParams[\"figure.figsize\"] = [12, 6]"
   ]
  },
  {
   "cell_type": "markdown",
   "id": "03fd31fa",
   "metadata": {},
   "source": [
    "Read the data\n"
   ]
  },
  {
   "cell_type": "code",
   "execution_count": 4,
   "id": "liberal-paper",
   "metadata": {},
   "outputs": [],
   "source": [
    "df_paper = pd.read_csv(\"paper.csv\")\n",
    "df_nep = pd.read_csv(\"nep.csv\")\n",
    "df_nep_inclusion = pd.read_csv(\"nep_inclusion.csv\")\n",
    "df_nep_issue = pd.read_csv(\"nep_issue.csv\")\n",
    "df_authorship = pd.read_csv(\"authorship.csv\")"
   ]
  },
  {
   "cell_type": "code",
   "execution_count": 31,
   "id": "261ab6a9",
   "metadata": {},
   "outputs": [
    {
     "data": {
      "image/png": "[encoded data removed]",
      "text/plain": [
       "<Figure size 432x288 with 1 Axes>"
      ]
     },
     "metadata": {
      "needs_background": "light"
     },
     "output_type": "display_data"
    }
   ],
   "source": [
    "min_year = 2000\n",
    "max_year = 2021\n",
    "sns.histplot(data = df_paper.year[df_paper.year.between(min_year, max_year)], discrete = 1)\n",
    "plt.title(\"Research papers by year\")\n",
    "plt.xlabel(\"Year\")\n",
    "plt.xticks(range(min_year, max_year + 1, 1), rotation = 45)\n",
    "plt.show()"
   ]
  },
  {
   "cell_type": "code",
   "execution_count": 41,
   "id": "fa09ce8d",
   "metadata": {},
   "outputs": [
    {
     "data": {
      "text/html": [
       "<style type=\"text/css\">\n",
       "</style>\n",
       "<table id=\"T_5a6f4_\">\n",
       "  <caption>Top 10 institutions by published papers</caption>\n",
       "  <thead>\n",
       "    <tr>\n",
       "      <th class=\"blank level0\" >&nbsp;</th>\n",
       "      <th class=\"col_heading level0 col0\" >count</th>\n",
       "    </tr>\n",
       "    <tr>\n",
       "      <th class=\"index_name level0\" >institution</th>\n",
       "      <th class=\"blank col0\" >&nbsp;</th>\n",
       "    </tr>\n",
       "  </thead>\n",
       "  <tbody>\n",
       "    <tr>\n",
       "      <th id=\"T_5a6f4_level0_row0\" class=\"row_heading level0 row0\" >University Library of Munich, Germany</th>\n",
       "      <td id=\"T_5a6f4_row0_col0\" class=\"data row0 col0\" >30185</td>\n",
       "    </tr>\n",
       "    <tr>\n",
       "      <th id=\"T_5a6f4_level0_row1\" class=\"row_heading level0 row1\" >National Bureau of Economic Research, Inc</th>\n",
       "      <td id=\"T_5a6f4_row1_col0\" class=\"data row1 col0\" >19925</td>\n",
       "    </tr>\n",
       "    <tr>\n",
       "      <th id=\"T_5a6f4_level0_row2\" class=\"row_heading level0 row2\" >Institute of Labor Economics (IZA)</th>\n",
       "      <td id=\"T_5a6f4_row2_col0\" class=\"data row2 col0\" >14141</td>\n",
       "    </tr>\n",
       "    <tr>\n",
       "      <th id=\"T_5a6f4_level0_row3\" class=\"row_heading level0 row3\" >HAL</th>\n",
       "      <td id=\"T_5a6f4_row3_col0\" class=\"data row3 col0\" >11489</td>\n",
       "    </tr>\n",
       "    <tr>\n",
       "      <th id=\"T_5a6f4_level0_row4\" class=\"row_heading level0 row4\" >C.E.P.R. Discussion Papers</th>\n",
       "      <td id=\"T_5a6f4_row4_col0\" class=\"data row4 col0\" >10720</td>\n",
       "    </tr>\n",
       "    <tr>\n",
       "      <th id=\"T_5a6f4_level0_row5\" class=\"row_heading level0 row5\" >arXiv.org</th>\n",
       "      <td id=\"T_5a6f4_row5_col0\" class=\"data row5 col0\" >9264</td>\n",
       "    </tr>\n",
       "    <tr>\n",
       "      <th id=\"T_5a6f4_level0_row6\" class=\"row_heading level0 row6\" >Agricultural and Applied Economics Association</th>\n",
       "      <td id=\"T_5a6f4_row6_col0\" class=\"data row6 col0\" >5118</td>\n",
       "    </tr>\n",
       "    <tr>\n",
       "      <th id=\"T_5a6f4_level0_row7\" class=\"row_heading level0 row7\" >The World Bank</th>\n",
       "      <td id=\"T_5a6f4_row7_col0\" class=\"data row7 col0\" >4689</td>\n",
       "    </tr>\n",
       "    <tr>\n",
       "      <th id=\"T_5a6f4_level0_row8\" class=\"row_heading level0 row8\" >CESifo</th>\n",
       "      <td id=\"T_5a6f4_row8_col0\" class=\"data row8 col0\" >4023</td>\n",
       "    </tr>\n",
       "    <tr>\n",
       "      <th id=\"T_5a6f4_level0_row9\" class=\"row_heading level0 row9\" >OECD Publishing</th>\n",
       "      <td id=\"T_5a6f4_row9_col0\" class=\"data row9 col0\" >3857</td>\n",
       "    </tr>\n",
       "  </tbody>\n",
       "</table>\n"
      ],
      "text/plain": [
       "<pandas.io.formats.style.Styler at 0x1ededdaecb0>"
      ]
     },
     "execution_count": 41,
     "metadata": {},
     "output_type": "execute_result"
    }
   ],
   "source": [
    "(pd.DataFrame(df_paper.groupby('institution')\n",
    ".count()\n",
    ".title.sort_values(ascending = False))\n",
    ".rename(columns={'title': 'count'})\n",
    ".head(10)\n",
    ".style.set_caption(\"Top 10 institutions by published papers\")\n",
    ")"
   ]
  },
  {
   "cell_type": "code",
   "execution_count": 60,
   "id": "6182be59",
   "metadata": {},
   "outputs": [],
   "source": [
    "df_pa = df_paper.merge(df_authorship, left_on='pid', right_on='paper__pid', how='left')\n",
    "df_pa.author__aid = df_pa.author__aid.str.replace(':', ' ').str.title()"
   ]
  },
  {
   "cell_type": "code",
   "execution_count": 62,
   "id": "619c448e",
   "metadata": {},
   "outputs": [
    {
     "data": {
      "text/html": [
       "<style type=\"text/css\">\n",
       "</style>\n",
       "<table id=\"T_3555f_\">\n",
       "  <caption>Top 10 authors by published papers</caption>\n",
       "  <thead>\n",
       "    <tr>\n",
       "      <th class=\"blank level0\" >&nbsp;</th>\n",
       "      <th class=\"col_heading level0 col0\" >count</th>\n",
       "    </tr>\n",
       "    <tr>\n",
       "      <th class=\"index_name level0\" >author__aid</th>\n",
       "      <th class=\"blank col0\" >&nbsp;</th>\n",
       "    </tr>\n",
       "  </thead>\n",
       "  <tbody>\n",
       "    <tr>\n",
       "      <th id=\"T_3555f_level0_row0\" class=\"row_heading level0 row0\" >Asongu Simplice</th>\n",
       "      <td id=\"T_3555f_row0_col0\" class=\"data row0 col0\" >1489</td>\n",
       "    </tr>\n",
       "    <tr>\n",
       "      <th id=\"T_3555f_level0_row1\" class=\"row_heading level0 row1\" >Fund International Monetary</th>\n",
       "      <td id=\"T_3555f_row1_col0\" class=\"data row1 col0\" >903</td>\n",
       "    </tr>\n",
       "    <tr>\n",
       "      <th id=\"T_3555f_level0_row2\" class=\"row_heading level0 row2\" >Bank World</th>\n",
       "      <td id=\"T_3555f_row2_col0\" class=\"data row2 col0\" >828</td>\n",
       "    </tr>\n",
       "    <tr>\n",
       "      <th id=\"T_3555f_level0_row3\" class=\"row_heading level0 row3\" >Gupta Rangan</th>\n",
       "      <td id=\"T_3555f_row3_col0\" class=\"data row3 col0\" >756</td>\n",
       "    </tr>\n",
       "    <tr>\n",
       "      <th id=\"T_3555f_level0_row4\" class=\"row_heading level0 row4\" >Mcaleer Michael</th>\n",
       "      <td id=\"T_3555f_row4_col0\" class=\"data row4 col0\" >648</td>\n",
       "    </tr>\n",
       "    <tr>\n",
       "      <th id=\"T_3555f_level0_row5\" class=\"row_heading level0 row5\" >Oecd</th>\n",
       "      <td id=\"T_3555f_row5_col0\" class=\"data row5 col0\" >466</td>\n",
       "    </tr>\n",
       "    <tr>\n",
       "      <th id=\"T_3555f_level0_row6\" class=\"row_heading level0 row6\" >Tol Richard</th>\n",
       "      <td id=\"T_3555f_row6_col0\" class=\"data row6 col0\" >385</td>\n",
       "    </tr>\n",
       "    <tr>\n",
       "      <th id=\"T_3555f_level0_row7\" class=\"row_heading level0 row7\" >Odhiambo Nicholas</th>\n",
       "      <td id=\"T_3555f_row7_col0\" class=\"data row7 col0\" >330</td>\n",
       "    </tr>\n",
       "    <tr>\n",
       "      <th id=\"T_3555f_level0_row8\" class=\"row_heading level0 row8\" >Chang Chia-Lin</th>\n",
       "      <td id=\"T_3555f_row8_col0\" class=\"data row8 col0\" >306</td>\n",
       "    </tr>\n",
       "    <tr>\n",
       "      <th id=\"T_3555f_level0_row9\" class=\"row_heading level0 row9\" >Yogyakarta Perpustakaan Stipram</th>\n",
       "      <td id=\"T_3555f_row9_col0\" class=\"data row9 col0\" >305</td>\n",
       "    </tr>\n",
       "  </tbody>\n",
       "</table>\n"
      ],
      "text/plain": [
       "<pandas.io.formats.style.Styler at 0x1ed82eff070>"
      ]
     },
     "execution_count": 62,
     "metadata": {},
     "output_type": "execute_result"
    }
   ],
   "source": [
    "(pd.DataFrame(df_pa.groupby('author__aid')\n",
    ".count()\n",
    ".title.sort_values(ascending = False))\n",
    ".rename(columns={'title': 'count'})\n",
    ".head(10)\n",
    ".style.set_caption(\"Top 10 authors by published papers\")\n",
    ")"
   ]
  },
  {
   "cell_type": "code",
   "execution_count": 98,
   "id": "d68653ed",
   "metadata": {},
   "outputs": [],
   "source": [
    "num_authors = (pd.DataFrame(df_pa.groupby('pid')\n",
    ".count()\n",
    ".title.sort_values(ascending = False))\n",
    ".rename(columns={'title': 'count'})\n",
    ".value_counts()\n",
    ")"
   ]
  },
  {
   "cell_type": "code",
   "execution_count": 97,
   "id": "96f2a2a5",
   "metadata": {},
   "outputs": [
    {
     "data": {
      "image/png": "[encoded data removed]",
      "text/plain": [
       "<Figure size 432x288 with 1 Axes>"
      ]
     },
     "metadata": {
      "needs_background": "light"
     },
     "output_type": "display_data"
    }
   ],
   "source": [
    "num_top = 5\n",
    "height = list(num_authors[:num_top].values) + [num_authors[num_top:].sum()]\n",
    "bars = list(range(1, num_top + 1)) + [f'>{num_top}']\n",
    "y_pos = range(len(bars))\n",
    "\n",
    "plt.bar(y_pos, height)\n",
    "plt.xticks(y_pos, bars)\n",
    "plt.title(\"Research papers by number of authors\")\n",
    "plt.xlabel(\"Number of authors\")\n",
    "plt.ylabel(\"Count\")\n",
    "plt.show()"
   ]
  },
  {
   "cell_type": "code",
   "execution_count": 114,
   "id": "9a12bb4a",
   "metadata": {},
   "outputs": [
    {
     "data": {
      "text/html": [
       "<style type=\"text/css\">\n",
       "</style>\n",
       "<table id=\"T_e98d8_\">\n",
       "  <caption>Top 10 authors affilieated with the most institution</caption>\n",
       "  <thead>\n",
       "    <tr>\n",
       "      <th class=\"blank level0\" >&nbsp;</th>\n",
       "      <th class=\"col_heading level0 col0\" >institution</th>\n",
       "    </tr>\n",
       "    <tr>\n",
       "      <th class=\"index_name level0\" >author__aid</th>\n",
       "      <th class=\"blank col0\" >&nbsp;</th>\n",
       "    </tr>\n",
       "  </thead>\n",
       "  <tbody>\n",
       "    <tr>\n",
       "      <th id=\"T_e98d8_level0_row0\" class=\"row_heading level0 row0\" >Ongena Steven</th>\n",
       "      <td id=\"T_e98d8_row0_col0\" class=\"data row0 col0\" >47</td>\n",
       "    </tr>\n",
       "    <tr>\n",
       "      <th id=\"T_e98d8_level0_row1\" class=\"row_heading level0 row1\" >Peri Giovanni</th>\n",
       "      <td id=\"T_e98d8_row1_col0\" class=\"data row1 col0\" >40</td>\n",
       "    </tr>\n",
       "    <tr>\n",
       "      <th id=\"T_e98d8_level0_row2\" class=\"row_heading level0 row2\" >Ottaviano Gianmarco</th>\n",
       "      <td id=\"T_e98d8_row2_col0\" class=\"data row2 col0\" >39</td>\n",
       "    </tr>\n",
       "    <tr>\n",
       "      <th id=\"T_e98d8_level0_row3\" class=\"row_heading level0 row3\" >Eichengreen Barry</th>\n",
       "      <td id=\"T_e98d8_row3_col0\" class=\"data row3 col0\" >39</td>\n",
       "    </tr>\n",
       "    <tr>\n",
       "      <th id=\"T_e98d8_level0_row4\" class=\"row_heading level0 row4\" >Devereux Michael</th>\n",
       "      <td id=\"T_e98d8_row4_col0\" class=\"data row4 col0\" >39</td>\n",
       "    </tr>\n",
       "    <tr>\n",
       "      <th id=\"T_e98d8_level0_row5\" class=\"row_heading level0 row5\" >Clark Andrew</th>\n",
       "      <td id=\"T_e98d8_row5_col0\" class=\"data row5 col0\" >37</td>\n",
       "    </tr>\n",
       "    <tr>\n",
       "      <th id=\"T_e98d8_level0_row6\" class=\"row_heading level0 row6\" >Verdier Thierry</th>\n",
       "      <td id=\"T_e98d8_row6_col0\" class=\"data row6 col0\" >37</td>\n",
       "    </tr>\n",
       "    <tr>\n",
       "      <th id=\"T_e98d8_level0_row7\" class=\"row_heading level0 row7\" >Pesaran M</th>\n",
       "      <td id=\"T_e98d8_row7_col0\" class=\"data row7 col0\" >37</td>\n",
       "    </tr>\n",
       "    <tr>\n",
       "      <th id=\"T_e98d8_level0_row8\" class=\"row_heading level0 row8\" >Cabrales Antonio</th>\n",
       "      <td id=\"T_e98d8_row8_col0\" class=\"data row8 col0\" >36</td>\n",
       "    </tr>\n",
       "    <tr>\n",
       "      <th id=\"T_e98d8_level0_row9\" class=\"row_heading level0 row9\" >Spagnolo Giancarlo</th>\n",
       "      <td id=\"T_e98d8_row9_col0\" class=\"data row9 col0\" >35</td>\n",
       "    </tr>\n",
       "  </tbody>\n",
       "</table>\n"
      ],
      "text/plain": [
       "<pandas.io.formats.style.Styler at 0x1ed93693fd0>"
      ]
     },
     "execution_count": 114,
     "metadata": {},
     "output_type": "execute_result"
    }
   ],
   "source": [
    "pd.DataFrame(df_pa.groupby('author__aid')\n",
    ".institution\n",
    ".nunique()\n",
    ".sort_values(ascending = False)\n",
    ".head(10)\n",
    ").style.set_caption('Top 10 authors affilieated with the most institution')"
   ]
  }
 ],
 "metadata": {
  "interpreter": {
   "hash": "64878fe84c8d43d7501c7cf6e04817e42f7fe76450da501dadd076b66cecf21e"
  },
  "kernelspec": {
   "display_name": "Python 3.10.4 64-bit",
   "language": "python",
   "name": "python3"
  },
  "language_info": {
   "codemirror_mode": {
    "name": "ipython",
    "version": 3
   },
   "file_extension": ".py",
   "mimetype": "text/x-python",
   "name": "python",
   "nbconvert_exporter": "python",
   "pygments_lexer": "ipython3",
   "version": "3.10.4"
  }
 },
 "nbformat": 4,
 "nbformat_minor": 5
}
